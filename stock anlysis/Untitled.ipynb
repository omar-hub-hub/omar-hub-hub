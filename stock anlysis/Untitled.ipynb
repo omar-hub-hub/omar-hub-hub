{
 "cells": [
  {
   "cell_type": "code",
   "execution_count": 1,
   "id": "f696b420",
   "metadata": {},
   "outputs": [],
   "source": [
    "import glob\n",
    "import os \n",
    "import pandas as pd \n",
    "import numpy as np\n",
    "\n",
    "import matplotlib.pylab as plt \n",
    "import plotly.express as ex \n",
    "import seaborn as sns \n",
    "import plotly.graph_objects as go\n",
    "\n",
    "import missingno as miss \n",
    "\n",
    "from  ipywidgets import interact,interact_manual\n",
    "\n"
   ]
  },
  {
   "cell_type": "code",
   "execution_count": 2,
   "id": "8ad581b3",
   "metadata": {},
   "outputs": [
    {
     "name": "stdout",
     "output_type": "stream",
     "text": [
      "['AAPL.csv', 'AMZN.csv', 'GOOGL.csv', 'JP-MORGN.csv', 'MSFOT.csv', 'NTFLX.csv', 'NVDA.csv', 'TSLA.csv', 'VISA.csv', 'WL-MART.csv', 'ZAll_Combine_Stock_Histry.csv']\n",
      "(1258, 8)\n"
     ]
    }
   ],
   "source": [
    "# setting the path for joining multiple files\n",
    "extension = 'csv'\n",
    "all_filenames = [i for i in glob.glob('*.{}'.format(extension))]\n",
    "print(all_filenames)\n",
    "dataframes = []  # a list to hold all the individual pandas DataFrames\n",
    "for csvfile in all_filenames:\n",
    "    df = pd.read_csv(csvfile)\n",
    "    dataframes.append(df)\n",
    "df=dataframes[0]\n",
    "print(df.shape)\n",
    "for i in range(1,11):\n",
    "    df = pd.merge(df,dataframes[i],\n",
    "                   on='Date', \n",
    "                   how='outer')"
   ]
  },
  {
   "cell_type": "code",
   "execution_count": 3,
   "id": "217e95bd",
   "metadata": {},
   "outputs": [],
   "source": [
    "df.drop(['Open_x', 'High_x', 'Low_x', 'Close_x', 'Adj Close_x',\n",
    "       'Volume_x', 'Company_x', 'Open_y', 'High_y', 'Low_y', 'Close_y',\n",
    "       'Adj Close_y', 'Volume_y', 'Company_y', 'Open_x', 'High_x', 'Low_x',\n",
    "       'Close_x', 'Adj Close_x', 'Volume_x', 'Company_x', 'Open_y', 'High_y',\n",
    "       'Low_y', 'Close_y', 'Adj Close_y', 'Volume_y', 'Company_y', 'Open_x',\n",
    "       'High_x', 'Low_x', 'Close_x', 'Adj Close_x', 'Volume_x', 'Company_x',\n",
    "       'Open_y', 'High_y', 'Low_y', 'Close_y', 'Adj Close_y', 'Volume_y',\n",
    "       'Company_y', 'Open_x', 'High_x', 'Low_x', 'Close_x', 'Adj Close_x',\n",
    "       'Volume_x', 'Company_x', 'Open_y', 'High_y', 'Low_y', 'Close_y',\n",
    "       'Adj Close_y', 'Volume_y', 'Company_y', 'Open_x', 'High_x', 'Low_x',\n",
    "       'Close_x', 'Adj Close_x', 'Volume_x', 'Company_x', 'Open_y', 'High_y',\n",
    "       'Low_y', 'Close_y', 'Adj Close_y', 'Volume_y', 'Company_y',],axis=1,inplace=True)"
   ]
  },
  {
   "cell_type": "code",
   "execution_count": 4,
   "id": "9e5958cb",
   "metadata": {},
   "outputs": [
    {
     "data": {
      "text/html": [
       "<div>\n",
       "<style scoped>\n",
       "    .dataframe tbody tr th:only-of-type {\n",
       "        vertical-align: middle;\n",
       "    }\n",
       "\n",
       "    .dataframe tbody tr th {\n",
       "        vertical-align: top;\n",
       "    }\n",
       "\n",
       "    .dataframe thead th {\n",
       "        text-align: right;\n",
       "    }\n",
       "</style>\n",
       "<table border=\"1\" class=\"dataframe\">\n",
       "  <thead>\n",
       "    <tr style=\"text-align: right;\">\n",
       "      <th></th>\n",
       "      <th>Date</th>\n",
       "      <th>Open</th>\n",
       "      <th>High</th>\n",
       "      <th>Low</th>\n",
       "      <th>Close</th>\n",
       "      <th>Adj Close</th>\n",
       "      <th>Volume</th>\n",
       "      <th>Company</th>\n",
       "    </tr>\n",
       "  </thead>\n",
       "  <tbody>\n",
       "    <tr>\n",
       "      <th>0</th>\n",
       "      <td>2017-07-08</td>\n",
       "      <td>39.264999</td>\n",
       "      <td>39.730000</td>\n",
       "      <td>39.167500</td>\n",
       "      <td>39.702499</td>\n",
       "      <td>37.585022</td>\n",
       "      <td>87481200</td>\n",
       "      <td>AAPL</td>\n",
       "    </tr>\n",
       "    <tr>\n",
       "      <th>3010</th>\n",
       "      <td>2018-10-16</td>\n",
       "      <td>54.732498</td>\n",
       "      <td>55.747501</td>\n",
       "      <td>54.189999</td>\n",
       "      <td>55.537498</td>\n",
       "      <td>53.580002</td>\n",
       "      <td>116736000</td>\n",
       "      <td>AAPL</td>\n",
       "    </tr>\n",
       "    <tr>\n",
       "      <th>9380</th>\n",
       "      <td>2021-04-29</td>\n",
       "      <td>136.470001</td>\n",
       "      <td>137.070007</td>\n",
       "      <td>132.449997</td>\n",
       "      <td>133.479996</td>\n",
       "      <td>132.496674</td>\n",
       "      <td>151101000</td>\n",
       "      <td>AAPL</td>\n",
       "    </tr>\n",
       "    <tr>\n",
       "      <th>3000</th>\n",
       "      <td>2018-10-15</td>\n",
       "      <td>55.290001</td>\n",
       "      <td>55.457500</td>\n",
       "      <td>54.317501</td>\n",
       "      <td>54.340000</td>\n",
       "      <td>52.424709</td>\n",
       "      <td>123164000</td>\n",
       "      <td>AAPL</td>\n",
       "    </tr>\n",
       "    <tr>\n",
       "      <th>11640</th>\n",
       "      <td>2022-03-22</td>\n",
       "      <td>165.509995</td>\n",
       "      <td>169.419998</td>\n",
       "      <td>164.910004</td>\n",
       "      <td>168.820007</td>\n",
       "      <td>168.572327</td>\n",
       "      <td>81532000</td>\n",
       "      <td>AAPL</td>\n",
       "    </tr>\n",
       "    <tr>\n",
       "      <th>...</th>\n",
       "      <td>...</td>\n",
       "      <td>...</td>\n",
       "      <td>...</td>\n",
       "      <td>...</td>\n",
       "      <td>...</td>\n",
       "      <td>...</td>\n",
       "      <td>...</td>\n",
       "      <td>...</td>\n",
       "    </tr>\n",
       "    <tr>\n",
       "      <th>7639</th>\n",
       "      <td>2020-08-18</td>\n",
       "      <td>136.169998</td>\n",
       "      <td>137.630005</td>\n",
       "      <td>133.169998</td>\n",
       "      <td>134.710007</td>\n",
       "      <td>131.132706</td>\n",
       "      <td>26744200</td>\n",
       "      <td>WLMART</td>\n",
       "    </tr>\n",
       "    <tr>\n",
       "      <th>7649</th>\n",
       "      <td>2020-08-19</td>\n",
       "      <td>134.210007</td>\n",
       "      <td>134.660004</td>\n",
       "      <td>131.850006</td>\n",
       "      <td>132.410004</td>\n",
       "      <td>128.893784</td>\n",
       "      <td>12718400</td>\n",
       "      <td>WLMART</td>\n",
       "    </tr>\n",
       "    <tr>\n",
       "      <th>7659</th>\n",
       "      <td>2020-08-20</td>\n",
       "      <td>131.210007</td>\n",
       "      <td>132.070007</td>\n",
       "      <td>130.050003</td>\n",
       "      <td>130.570007</td>\n",
       "      <td>127.102646</td>\n",
       "      <td>8936900</td>\n",
       "      <td>WLMART</td>\n",
       "    </tr>\n",
       "    <tr>\n",
       "      <th>7599</th>\n",
       "      <td>2020-12-08</td>\n",
       "      <td>130.470001</td>\n",
       "      <td>132.229996</td>\n",
       "      <td>129.080002</td>\n",
       "      <td>131.889999</td>\n",
       "      <td>127.861923</td>\n",
       "      <td>6364800</td>\n",
       "      <td>WLMART</td>\n",
       "    </tr>\n",
       "    <tr>\n",
       "      <th>12579</th>\n",
       "      <td>2022-04-08</td>\n",
       "      <td>130.669998</td>\n",
       "      <td>130.800003</td>\n",
       "      <td>125.330002</td>\n",
       "      <td>125.570000</td>\n",
       "      <td>125.570000</td>\n",
       "      <td>17702000</td>\n",
       "      <td>WLMART</td>\n",
       "    </tr>\n",
       "  </tbody>\n",
       "</table>\n",
       "<p>12580 rows × 8 columns</p>\n",
       "</div>"
      ],
      "text/plain": [
       "            Date        Open        High         Low       Close   Adj Close  \\\n",
       "0     2017-07-08   39.264999   39.730000   39.167500   39.702499   37.585022   \n",
       "3010  2018-10-16   54.732498   55.747501   54.189999   55.537498   53.580002   \n",
       "9380  2021-04-29  136.470001  137.070007  132.449997  133.479996  132.496674   \n",
       "3000  2018-10-15   55.290001   55.457500   54.317501   54.340000   52.424709   \n",
       "11640 2022-03-22  165.509995  169.419998  164.910004  168.820007  168.572327   \n",
       "...          ...         ...         ...         ...         ...         ...   \n",
       "7639  2020-08-18  136.169998  137.630005  133.169998  134.710007  131.132706   \n",
       "7649  2020-08-19  134.210007  134.660004  131.850006  132.410004  128.893784   \n",
       "7659  2020-08-20  131.210007  132.070007  130.050003  130.570007  127.102646   \n",
       "7599  2020-12-08  130.470001  132.229996  129.080002  131.889999  127.861923   \n",
       "12579 2022-04-08  130.669998  130.800003  125.330002  125.570000  125.570000   \n",
       "\n",
       "          Volume Company  \n",
       "0       87481200    AAPL  \n",
       "3010   116736000    AAPL  \n",
       "9380   151101000    AAPL  \n",
       "3000   123164000    AAPL  \n",
       "11640   81532000    AAPL  \n",
       "...          ...     ...  \n",
       "7639    26744200  WLMART  \n",
       "7649    12718400  WLMART  \n",
       "7659     8936900  WLMART  \n",
       "7599     6364800  WLMART  \n",
       "12579   17702000  WLMART  \n",
       "\n",
       "[12580 rows x 8 columns]"
      ]
     },
     "execution_count": 4,
     "metadata": {},
     "output_type": "execute_result"
    }
   ],
   "source": [
    "df.Date=pd.to_datetime(df.Date)\n",
    "\n",
    "df.sort_values(by=\"Company\",inplace=True)\n",
    "df"
   ]
  },
  {
   "cell_type": "code",
   "execution_count": 5,
   "id": "31456c86",
   "metadata": {},
   "outputs": [
    {
     "name": "stdout",
     "output_type": "stream",
     "text": [
      "<class 'pandas.core.frame.DataFrame'>\n",
      "Int64Index: 12580 entries, 0 to 12579\n",
      "Data columns (total 8 columns):\n",
      " #   Column     Non-Null Count  Dtype         \n",
      "---  ------     --------------  -----         \n",
      " 0   Date       12580 non-null  datetime64[ns]\n",
      " 1   Open       12580 non-null  float64       \n",
      " 2   High       12580 non-null  float64       \n",
      " 3   Low        12580 non-null  float64       \n",
      " 4   Close      12580 non-null  float64       \n",
      " 5   Adj Close  12580 non-null  float64       \n",
      " 6   Volume     12580 non-null  int64         \n",
      " 7   Company    12580 non-null  object        \n",
      "dtypes: datetime64[ns](1), float64(5), int64(1), object(1)\n",
      "memory usage: 884.5+ KB\n"
     ]
    }
   ],
   "source": [
    "df.info()"
   ]
  },
  {
   "cell_type": "code",
   "execution_count": 6,
   "id": "7372e8e9",
   "metadata": {},
   "outputs": [
    {
     "data": {
      "text/plain": [
       "<AxesSubplot:>"
      ]
     },
     "execution_count": 6,
     "metadata": {},
     "output_type": "execute_result"
    },
    {
     "data": {
      "image/png": "[encoded data removed]",
      "text/plain": [
       "<Figure size 1800x720 with 3 Axes>"
      ]
     },
     "metadata": {
      "needs_background": "light"
     },
     "output_type": "display_data"
    }
   ],
   "source": [
    "miss.bar(df,color=\"blue\",sort='ascending')"
   ]
  },
  {
   "cell_type": "code",
   "execution_count": 7,
   "id": "33c73399",
   "metadata": {
    "scrolled": true
   },
   "outputs": [
    {
     "data": {
      "application/vnd.jupyter.widget-view+json": {
       "model_id": "32958bf8f88b4c0b89529b89d42354be",
       "version_major": 2,
       "version_minor": 0
      },
      "text/plain": [
       "interactive(children=(Dropdown(description='company', options=('AAPL', 'AMZN', 'GOOGL', 'JP-MRGN', 'M-SOFT', '…"
      ]
     },
     "metadata": {},
     "output_type": "display_data"
    },
    {
     "data": {
      "text/plain": [
       "<function __main__.f(company=array(['AAPL', 'AMZN', 'GOOGL', 'JP-MRGN', 'M-SOFT', 'NTFLX', 'NVDA',\n",
       "       'TSLA', 'VISA', 'WLMART'], dtype=object))>"
      ]
     },
     "execution_count": 7,
     "metadata": {},
     "output_type": "execute_result"
    }
   ],
   "source": [
    "def f(company =df.Company.unique()):\n",
    "   \n",
    "    data=df[df.Company==company]\n",
    "    data.set_index('Date', inplace=True)\n",
    "    data.plot(subplots=True, figsize=(10,12))\n",
    "    plt.title('{} stock attributes'.format(company))\n",
    "    plt.show()\n",
    "interact_manual(f)"
   ]
  },
  {
   "cell_type": "code",
   "execution_count": 10,
   "id": "289d41d2",
   "metadata": {},
   "outputs": [
    {
     "data": {
      "application/vnd.jupyter.widget-view+json": {
       "model_id": "b966217e0801423897f9c57d52cd2c00",
       "version_major": 2,
       "version_minor": 0
      },
      "text/plain": [
       "interactive(children=(Dropdown(description='company', options=('AAPL', 'AMZN', 'GOOGL', 'JP-MRGN', 'M-SOFT', '…"
      ]
     },
     "metadata": {},
     "output_type": "display_data"
    },
    {
     "data": {
      "text/plain": [
       "<function __main__.f(company=array(['AAPL', 'AMZN', 'GOOGL', 'JP-MRGN', 'M-SOFT', 'NTFLX', 'NVDA',\n",
       "       'TSLA', 'VISA', 'WLMART'], dtype=object), date=['2017', '2018', '2019', '2020', '2021', '2022'])>"
      ]
     },
     "execution_count": 10,
     "metadata": {},
     "output_type": "execute_result"
    }
   ],
   "source": [
    "def f(company =df.Company.unique(),date=['2017',\"2018\",'2019','2020','2021','2022']):\n",
    "    data=df[df.Company==company]\n",
    "    data.set_index('Date', inplace=True)\n",
    "    data=data.loc[date]\n",
    "    data.plot(subplots=True, figsize=(10,12))\n",
    "    plt.title('{} stock attributes'.format(company))\n",
    "    plt.show()\n",
    "interact_manual(f)"
   ]
  },
  {
   "cell_type": "markdown",
   "id": "95fafe8c",
   "metadata": {},
   "source": [
    "comper last year for all "
   ]
  },
  {
   "cell_type": "code",
   "execution_count": 83,
   "id": "09350b45",
   "metadata": {},
   "outputs": [
    {
     "data": {
      "text/html": [
       "<div>\n",
       "<style scoped>\n",
       "    .dataframe tbody tr th:only-of-type {\n",
       "        vertical-align: middle;\n",
       "    }\n",
       "\n",
       "    .dataframe tbody tr th {\n",
       "        vertical-align: top;\n",
       "    }\n",
       "\n",
       "    .dataframe thead tr th {\n",
       "        text-align: left;\n",
       "    }\n",
       "\n",
       "    .dataframe thead tr:last-of-type th {\n",
       "        text-align: right;\n",
       "    }\n",
       "</style>\n",
       "<table border=\"1\" class=\"dataframe\">\n",
       "  <thead>\n",
       "    <tr>\n",
       "      <th></th>\n",
       "      <th colspan=\"3\" halign=\"left\">Low</th>\n",
       "      <th colspan=\"3\" halign=\"left\">High</th>\n",
       "      <th colspan=\"3\" halign=\"left\">Adj Close</th>\n",
       "    </tr>\n",
       "    <tr>\n",
       "      <th></th>\n",
       "      <th>min</th>\n",
       "      <th>max</th>\n",
       "      <th>mean</th>\n",
       "      <th>min</th>\n",
       "      <th>max</th>\n",
       "      <th>mean</th>\n",
       "      <th>min</th>\n",
       "      <th>max</th>\n",
       "      <th>mean</th>\n",
       "    </tr>\n",
       "    <tr>\n",
       "      <th>Company</th>\n",
       "      <th></th>\n",
       "      <th></th>\n",
       "      <th></th>\n",
       "      <th></th>\n",
       "      <th></th>\n",
       "      <th></th>\n",
       "      <th></th>\n",
       "      <th></th>\n",
       "      <th></th>\n",
       "    </tr>\n",
       "  </thead>\n",
       "  <tbody>\n",
       "    <tr>\n",
       "      <th>AAPL</th>\n",
       "      <td>35.500000</td>\n",
       "      <td>179.119995</td>\n",
       "      <td>88.175914</td>\n",
       "      <td>36.430000</td>\n",
       "      <td>182.940002</td>\n",
       "      <td>90.228285</td>\n",
       "      <td>34.414234</td>\n",
       "      <td>181.511703</td>\n",
       "      <td>88.082744</td>\n",
       "    </tr>\n",
       "    <tr>\n",
       "      <th>AMZN</th>\n",
       "      <td>46.587502</td>\n",
       "      <td>184.839493</td>\n",
       "      <td>113.665197</td>\n",
       "      <td>47.431499</td>\n",
       "      <td>188.654007</td>\n",
       "      <td>116.471413</td>\n",
       "      <td>46.930000</td>\n",
       "      <td>186.570496</td>\n",
       "      <td>115.085707</td>\n",
       "    </tr>\n",
       "    <tr>\n",
       "      <th>GOOGL</th>\n",
       "      <td>45.169998</td>\n",
       "      <td>149.887497</td>\n",
       "      <td>80.849910</td>\n",
       "      <td>45.650002</td>\n",
       "      <td>152.100006</td>\n",
       "      <td>82.576140</td>\n",
       "      <td>45.333000</td>\n",
       "      <td>150.709000</td>\n",
       "      <td>81.733603</td>\n",
       "    </tr>\n",
       "    <tr>\n",
       "      <th>JP-MRGN</th>\n",
       "      <td>76.910004</td>\n",
       "      <td>170.539993</td>\n",
       "      <td>119.769285</td>\n",
       "      <td>83.750000</td>\n",
       "      <td>172.960007</td>\n",
       "      <td>122.190135</td>\n",
       "      <td>73.228569</td>\n",
       "      <td>168.013870</td>\n",
       "      <td>112.945602</td>\n",
       "    </tr>\n",
       "    <tr>\n",
       "      <th>M-SOFT</th>\n",
       "      <td>71.279999</td>\n",
       "      <td>342.200012</td>\n",
       "      <td>178.029666</td>\n",
       "      <td>72.190002</td>\n",
       "      <td>349.670013</td>\n",
       "      <td>181.815731</td>\n",
       "      <td>66.886467</td>\n",
       "      <td>341.606384</td>\n",
       "      <td>176.802718</td>\n",
       "    </tr>\n",
       "    <tr>\n",
       "      <th>NTFLX</th>\n",
       "      <td>162.710007</td>\n",
       "      <td>686.090027</td>\n",
       "      <td>375.515016</td>\n",
       "      <td>168.669998</td>\n",
       "      <td>700.989990</td>\n",
       "      <td>387.575159</td>\n",
       "      <td>165.949997</td>\n",
       "      <td>691.690002</td>\n",
       "      <td>381.706176</td>\n",
       "    </tr>\n",
       "    <tr>\n",
       "      <th>NVDA</th>\n",
       "      <td>31.115000</td>\n",
       "      <td>320.359985</td>\n",
       "      <td>105.818837</td>\n",
       "      <td>32.494999</td>\n",
       "      <td>346.470001</td>\n",
       "      <td>110.036357</td>\n",
       "      <td>31.554657</td>\n",
       "      <td>333.591766</td>\n",
       "      <td>107.744195</td>\n",
       "    </tr>\n",
       "    <tr>\n",
       "      <th>TSLA</th>\n",
       "      <td>35.397999</td>\n",
       "      <td>1217.000000</td>\n",
       "      <td>336.320296</td>\n",
       "      <td>37.335999</td>\n",
       "      <td>1243.489990</td>\n",
       "      <td>353.063473</td>\n",
       "      <td>35.793999</td>\n",
       "      <td>1229.910034</td>\n",
       "      <td>344.958510</td>\n",
       "    </tr>\n",
       "    <tr>\n",
       "      <th>VISA</th>\n",
       "      <td>99.430000</td>\n",
       "      <td>248.220001</td>\n",
       "      <td>175.181383</td>\n",
       "      <td>100.300003</td>\n",
       "      <td>252.669998</td>\n",
       "      <td>178.700890</td>\n",
       "      <td>96.336441</td>\n",
       "      <td>249.265625</td>\n",
       "      <td>174.595170</td>\n",
       "    </tr>\n",
       "    <tr>\n",
       "      <th>WLMART</th>\n",
       "      <td>77.500000</td>\n",
       "      <td>159.070007</td>\n",
       "      <td>116.854126</td>\n",
       "      <td>78.459999</td>\n",
       "      <td>160.770004</td>\n",
       "      <td>118.868680</td>\n",
       "      <td>71.414970</td>\n",
       "      <td>159.290985</td>\n",
       "      <td>113.643090</td>\n",
       "    </tr>\n",
       "  </tbody>\n",
       "</table>\n",
       "</div>"
      ],
      "text/plain": [
       "                Low                                 High               \\\n",
       "                min          max        mean         min          max   \n",
       "Company                                                                 \n",
       "AAPL      35.500000   179.119995   88.175914   36.430000   182.940002   \n",
       "AMZN      46.587502   184.839493  113.665197   47.431499   188.654007   \n",
       "GOOGL     45.169998   149.887497   80.849910   45.650002   152.100006   \n",
       "JP-MRGN   76.910004   170.539993  119.769285   83.750000   172.960007   \n",
       "M-SOFT    71.279999   342.200012  178.029666   72.190002   349.670013   \n",
       "NTFLX    162.710007   686.090027  375.515016  168.669998   700.989990   \n",
       "NVDA      31.115000   320.359985  105.818837   32.494999   346.470001   \n",
       "TSLA      35.397999  1217.000000  336.320296   37.335999  1243.489990   \n",
       "VISA      99.430000   248.220001  175.181383  100.300003   252.669998   \n",
       "WLMART    77.500000   159.070007  116.854126   78.459999   160.770004   \n",
       "\n",
       "                      Adj Close                           \n",
       "               mean         min          max        mean  \n",
       "Company                                                   \n",
       "AAPL      90.228285   34.414234   181.511703   88.082744  \n",
       "AMZN     116.471413   46.930000   186.570496  115.085707  \n",
       "GOOGL     82.576140   45.333000   150.709000   81.733603  \n",
       "JP-MRGN  122.190135   73.228569   168.013870  112.945602  \n",
       "M-SOFT   181.815731   66.886467   341.606384  176.802718  \n",
       "NTFLX    387.575159  165.949997   691.690002  381.706176  \n",
       "NVDA     110.036357   31.554657   333.591766  107.744195  \n",
       "TSLA     353.063473   35.793999  1229.910034  344.958510  \n",
       "VISA     178.700890   96.336441   249.265625  174.595170  \n",
       "WLMART   118.868680   71.414970   159.290985  113.643090  "
      ]
     },
     "execution_count": 83,
     "metadata": {},
     "output_type": "execute_result"
    }
   ],
   "source": [
    "df.groupby(\"Company\").agg({'Low':['min','max','mean'],'High':['min','max','mean'],'Adj Close':['min','max','mean']})"
   ]
  },
  {
   "cell_type": "code",
   "execution_count": 92,
   "id": "a2d38820",
   "metadata": {},
   "outputs": [
    {
     "data": {
      "application/vnd.jupyter.widget-view+json": {
       "model_id": "d98c54e6abe746389e3c47a9fcf7eb70",
       "version_major": 2,
       "version_minor": 0
      },
      "text/plain": [
       "interactive(children=(Dropdown(description='ye', options=(2017, 2018, 2019, 2020, 2021, 2022), value=2017), Dr…"
      ]
     },
     "metadata": {},
     "output_type": "display_data"
    },
    {
     "data": {
      "text/plain": [
       "<function __main__.f(ye=array([2017, 2018, 2019, 2020, 2021, 2022], dtype=int64), compere=['Low', 'High', 'Adj Close'])>"
      ]
     },
     "execution_count": 92,
     "metadata": {},
     "output_type": "execute_result"
    }
   ],
   "source": [
    "def f(ye=df['Date'].dt.year.sort_values().unique (),compere= ['Low','High','Adj Close']):\n",
    "    include = df[df['Date'].dt.year == ye]\n",
    "    da=include.groupby(\"Company\").agg({'Low':['min','max','mean'],'High':['min','max','mean'],'Adj Close':['min','max','mean']})\n",
    "    plt.figure(figsize=(15,15))   \n",
    "    plt.subplot(3, 1, 1)\n",
    "    sns.lineplot(x=da.index,y=da[compere]['min'])\n",
    "    plt.subplot(3, 1, 2)\n",
    "    sns.lineplot(x=da.index,y=da[compere]['max'])\n",
    "    plt.subplot(3, 1, 3)\n",
    "    sns.lineplot(x=da.index,y=da[compere]['mean'])\n",
    "    plt.show()\n",
    "    return \n",
    "interact_manual(f)"
   ]
  },
  {
   "cell_type": "code",
   "execution_count": 69,
   "id": "45a2fa80",
   "metadata": {},
   "outputs": [],
   "source": [
    "  da=include.groupby(\"Company\").agg({'Low':['min','max'],'High':['min','max'],'Adj Close':['min','max']})"
   ]
  },
  {
   "cell_type": "code",
   "execution_count": 89,
   "id": "337bf222",
   "metadata": {},
   "outputs": [
    {
     "ename": "KeyError",
     "evalue": "'mean'",
     "output_type": "error",
     "traceback": [
      "\u001b[1;31m---------------------------------------------------------------------------\u001b[0m",
      "\u001b[1;31mKeyError\u001b[0m                                  Traceback (most recent call last)",
      "\u001b[1;32m~\\anaconda3\\lib\\site-packages\\pandas\\core\\indexes\\base.py\u001b[0m in \u001b[0;36mget_loc\u001b[1;34m(self, key, method, tolerance)\u001b[0m\n\u001b[0;32m   3079\u001b[0m             \u001b[1;32mtry\u001b[0m\u001b[1;33m:\u001b[0m\u001b[1;33m\u001b[0m\u001b[1;33m\u001b[0m\u001b[0m\n\u001b[1;32m-> 3080\u001b[1;33m                 \u001b[1;32mreturn\u001b[0m \u001b[0mself\u001b[0m\u001b[1;33m.\u001b[0m\u001b[0m_engine\u001b[0m\u001b[1;33m.\u001b[0m\u001b[0mget_loc\u001b[0m\u001b[1;33m(\u001b[0m\u001b[0mcasted_key\u001b[0m\u001b[1;33m)\u001b[0m\u001b[1;33m\u001b[0m\u001b[1;33m\u001b[0m\u001b[0m\n\u001b[0m\u001b[0;32m   3081\u001b[0m             \u001b[1;32mexcept\u001b[0m \u001b[0mKeyError\u001b[0m \u001b[1;32mas\u001b[0m \u001b[0merr\u001b[0m\u001b[1;33m:\u001b[0m\u001b[1;33m\u001b[0m\u001b[1;33m\u001b[0m\u001b[0m\n",
      "\u001b[1;32mpandas\\_libs\\index.pyx\u001b[0m in \u001b[0;36mpandas._libs.index.IndexEngine.get_loc\u001b[1;34m()\u001b[0m\n",
      "\u001b[1;32mpandas\\_libs\\index.pyx\u001b[0m in \u001b[0;36mpandas._libs.index.IndexEngine.get_loc\u001b[1;34m()\u001b[0m\n",
      "\u001b[1;32mpandas\\_libs\\hashtable_class_helper.pxi\u001b[0m in \u001b[0;36mpandas._libs.hashtable.PyObjectHashTable.get_item\u001b[1;34m()\u001b[0m\n",
      "\u001b[1;32mpandas\\_libs\\hashtable_class_helper.pxi\u001b[0m in \u001b[0;36mpandas._libs.hashtable.PyObjectHashTable.get_item\u001b[1;34m()\u001b[0m\n",
      "\u001b[1;31mKeyError\u001b[0m: 'mean'",
      "\nThe above exception was the direct cause of the following exception:\n",
      "\u001b[1;31mKeyError\u001b[0m                                  Traceback (most recent call last)",
      "\u001b[1;32m<ipython-input-89-b9d07f6017ba>\u001b[0m in \u001b[0;36m<module>\u001b[1;34m\u001b[0m\n\u001b[1;32m----> 1\u001b[1;33m \u001b[0msns\u001b[0m\u001b[1;33m.\u001b[0m\u001b[0mlineplot\u001b[0m\u001b[1;33m(\u001b[0m\u001b[0mx\u001b[0m\u001b[1;33m=\u001b[0m\u001b[0mda\u001b[0m\u001b[1;33m.\u001b[0m\u001b[0mindex\u001b[0m\u001b[1;33m,\u001b[0m\u001b[0my\u001b[0m\u001b[1;33m=\u001b[0m\u001b[0mda\u001b[0m\u001b[1;33m.\u001b[0m\u001b[0mLow\u001b[0m\u001b[1;33m[\u001b[0m\u001b[1;34m'mean'\u001b[0m\u001b[1;33m]\u001b[0m\u001b[1;33m)\u001b[0m\u001b[1;33m\u001b[0m\u001b[1;33m\u001b[0m\u001b[0m\n\u001b[0m",
      "\u001b[1;32m~\\anaconda3\\lib\\site-packages\\pandas\\core\\frame.py\u001b[0m in \u001b[0;36m__getitem__\u001b[1;34m(self, key)\u001b[0m\n\u001b[0;32m   3022\u001b[0m             \u001b[1;32mif\u001b[0m \u001b[0mself\u001b[0m\u001b[1;33m.\u001b[0m\u001b[0mcolumns\u001b[0m\u001b[1;33m.\u001b[0m\u001b[0mnlevels\u001b[0m \u001b[1;33m>\u001b[0m \u001b[1;36m1\u001b[0m\u001b[1;33m:\u001b[0m\u001b[1;33m\u001b[0m\u001b[1;33m\u001b[0m\u001b[0m\n\u001b[0;32m   3023\u001b[0m                 \u001b[1;32mreturn\u001b[0m \u001b[0mself\u001b[0m\u001b[1;33m.\u001b[0m\u001b[0m_getitem_multilevel\u001b[0m\u001b[1;33m(\u001b[0m\u001b[0mkey\u001b[0m\u001b[1;33m)\u001b[0m\u001b[1;33m\u001b[0m\u001b[1;33m\u001b[0m\u001b[0m\n\u001b[1;32m-> 3024\u001b[1;33m             \u001b[0mindexer\u001b[0m \u001b[1;33m=\u001b[0m \u001b[0mself\u001b[0m\u001b[1;33m.\u001b[0m\u001b[0mcolumns\u001b[0m\u001b[1;33m.\u001b[0m\u001b[0mget_loc\u001b[0m\u001b[1;33m(\u001b[0m\u001b[0mkey\u001b[0m\u001b[1;33m)\u001b[0m\u001b[1;33m\u001b[0m\u001b[1;33m\u001b[0m\u001b[0m\n\u001b[0m\u001b[0;32m   3025\u001b[0m             \u001b[1;32mif\u001b[0m \u001b[0mis_integer\u001b[0m\u001b[1;33m(\u001b[0m\u001b[0mindexer\u001b[0m\u001b[1;33m)\u001b[0m\u001b[1;33m:\u001b[0m\u001b[1;33m\u001b[0m\u001b[1;33m\u001b[0m\u001b[0m\n\u001b[0;32m   3026\u001b[0m                 \u001b[0mindexer\u001b[0m \u001b[1;33m=\u001b[0m \u001b[1;33m[\u001b[0m\u001b[0mindexer\u001b[0m\u001b[1;33m]\u001b[0m\u001b[1;33m\u001b[0m\u001b[1;33m\u001b[0m\u001b[0m\n",
      "\u001b[1;32m~\\anaconda3\\lib\\site-packages\\pandas\\core\\indexes\\base.py\u001b[0m in \u001b[0;36mget_loc\u001b[1;34m(self, key, method, tolerance)\u001b[0m\n\u001b[0;32m   3080\u001b[0m                 \u001b[1;32mreturn\u001b[0m \u001b[0mself\u001b[0m\u001b[1;33m.\u001b[0m\u001b[0m_engine\u001b[0m\u001b[1;33m.\u001b[0m\u001b[0mget_loc\u001b[0m\u001b[1;33m(\u001b[0m\u001b[0mcasted_key\u001b[0m\u001b[1;33m)\u001b[0m\u001b[1;33m\u001b[0m\u001b[1;33m\u001b[0m\u001b[0m\n\u001b[0;32m   3081\u001b[0m             \u001b[1;32mexcept\u001b[0m \u001b[0mKeyError\u001b[0m \u001b[1;32mas\u001b[0m \u001b[0merr\u001b[0m\u001b[1;33m:\u001b[0m\u001b[1;33m\u001b[0m\u001b[1;33m\u001b[0m\u001b[0m\n\u001b[1;32m-> 3082\u001b[1;33m                 \u001b[1;32mraise\u001b[0m \u001b[0mKeyError\u001b[0m\u001b[1;33m(\u001b[0m\u001b[0mkey\u001b[0m\u001b[1;33m)\u001b[0m \u001b[1;32mfrom\u001b[0m \u001b[0merr\u001b[0m\u001b[1;33m\u001b[0m\u001b[1;33m\u001b[0m\u001b[0m\n\u001b[0m\u001b[0;32m   3083\u001b[0m \u001b[1;33m\u001b[0m\u001b[0m\n\u001b[0;32m   3084\u001b[0m         \u001b[1;32mif\u001b[0m \u001b[0mtolerance\u001b[0m \u001b[1;32mis\u001b[0m \u001b[1;32mnot\u001b[0m \u001b[1;32mNone\u001b[0m\u001b[1;33m:\u001b[0m\u001b[1;33m\u001b[0m\u001b[1;33m\u001b[0m\u001b[0m\n",
      "\u001b[1;31mKeyError\u001b[0m: 'mean'"
     ]
    }
   ],
   "source": []
  },
  {
   "cell_type": "code",
   "execution_count": 90,
   "id": "49089081",
   "metadata": {},
   "outputs": [
    {
     "data": {
      "text/html": [
       "<div>\n",
       "<style scoped>\n",
       "    .dataframe tbody tr th:only-of-type {\n",
       "        vertical-align: middle;\n",
       "    }\n",
       "\n",
       "    .dataframe tbody tr th {\n",
       "        vertical-align: top;\n",
       "    }\n",
       "\n",
       "    .dataframe thead th {\n",
       "        text-align: right;\n",
       "    }\n",
       "</style>\n",
       "<table border=\"1\" class=\"dataframe\">\n",
       "  <thead>\n",
       "    <tr style=\"text-align: right;\">\n",
       "      <th></th>\n",
       "      <th>min</th>\n",
       "      <th>max</th>\n",
       "    </tr>\n",
       "    <tr>\n",
       "      <th>Company</th>\n",
       "      <th></th>\n",
       "      <th></th>\n",
       "    </tr>\n",
       "  </thead>\n",
       "  <tbody>\n",
       "    <tr>\n",
       "      <th>AAPL</th>\n",
       "      <td>129.039993</td>\n",
       "      <td>179.119995</td>\n",
       "    </tr>\n",
       "    <tr>\n",
       "      <th>AMZN</th>\n",
       "      <td>101.260002</td>\n",
       "      <td>167.868500</td>\n",
       "    </tr>\n",
       "    <tr>\n",
       "      <th>GOOGL</th>\n",
       "      <td>102.208000</td>\n",
       "      <td>145.557495</td>\n",
       "    </tr>\n",
       "    <tr>\n",
       "      <th>JP-MRGN</th>\n",
       "      <td>106.059998</td>\n",
       "      <td>167.889999</td>\n",
       "    </tr>\n",
       "    <tr>\n",
       "      <th>M-SOFT</th>\n",
       "      <td>241.509995</td>\n",
       "      <td>329.779999</td>\n",
       "    </tr>\n",
       "    <tr>\n",
       "      <th>NTFLX</th>\n",
       "      <td>162.710007</td>\n",
       "      <td>590.559998</td>\n",
       "    </tr>\n",
       "    <tr>\n",
       "      <th>NVDA</th>\n",
       "      <td>140.550003</td>\n",
       "      <td>297.850006</td>\n",
       "    </tr>\n",
       "    <tr>\n",
       "      <th>TSLA</th>\n",
       "      <td>620.570007</td>\n",
       "      <td>1136.040039</td>\n",
       "    </tr>\n",
       "    <tr>\n",
       "      <th>VISA</th>\n",
       "      <td>185.910004</td>\n",
       "      <td>230.550003</td>\n",
       "    </tr>\n",
       "    <tr>\n",
       "      <th>WLMART</th>\n",
       "      <td>117.269997</td>\n",
       "      <td>159.070007</td>\n",
       "    </tr>\n",
       "  </tbody>\n",
       "</table>\n",
       "</div>"
      ],
      "text/plain": [
       "                min          max\n",
       "Company                         \n",
       "AAPL     129.039993   179.119995\n",
       "AMZN     101.260002   167.868500\n",
       "GOOGL    102.208000   145.557495\n",
       "JP-MRGN  106.059998   167.889999\n",
       "M-SOFT   241.509995   329.779999\n",
       "NTFLX    162.710007   590.559998\n",
       "NVDA     140.550003   297.850006\n",
       "TSLA     620.570007  1136.040039\n",
       "VISA     185.910004   230.550003\n",
       "WLMART   117.269997   159.070007"
      ]
     },
     "execution_count": 90,
     "metadata": {},
     "output_type": "execute_result"
    }
   ],
   "source": [
    "da.Low"
   ]
  },
  {
   "cell_type": "code",
   "execution_count": null,
   "id": "9942ae95",
   "metadata": {},
   "outputs": [],
   "source": []
  }
 ],
 "metadata": {
  "kernelspec": {
   "display_name": "Python 3",
   "language": "python",
   "name": "python3"
  },
  "language_info": {
   "codemirror_mode": {
    "name": "ipython",
    "version": 3
   },
   "file_extension": ".py",
   "mimetype": "text/x-python",
   "name": "python",
   "nbconvert_exporter": "python",
   "pygments_lexer": "ipython3",
   "version": "3.8.8"
  }
 },
 "nbformat": 4,
 "nbformat_minor": 5
}
